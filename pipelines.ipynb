{
 "cells": [
  {
   "attachments": {},
   "cell_type": "markdown",
   "metadata": {},
   "source": [
    "# MNIST classification"
   ]
  },
  {
   "cell_type": "code",
   "execution_count": 15,
   "metadata": {},
   "outputs": [],
   "source": [
    "EXPERIMENT_NAME = 'MNIST-Classification'"
   ]
  },
  {
   "attachments": {},
   "cell_type": "markdown",
   "metadata": {},
   "source": [
    "## Import package"
   ]
  },
  {
   "cell_type": "code",
   "execution_count": 16,
   "metadata": {},
   "outputs": [],
   "source": [
    "import kfp\n",
    "from kfp.components import InputPath, InputTextFile, OutputPath, OutputTextFile\n",
    "import kfp.dsl as dsl\n",
    "from kfp.components import func_to_container_op\n",
    "from constants import NAMESPACE, HOST\n",
    "from utils import helpers"
   ]
  },
  {
   "attachments": {},
   "cell_type": "markdown",
   "metadata": {},
   "source": [
    "## Load commponents"
   ]
  },
  {
   "cell_type": "code",
   "execution_count": 35,
   "metadata": {},
   "outputs": [
    {
     "name": "stdout",
     "output_type": "stream",
     "text": [
      "Help on function download_data:\n",
      "\n",
      "download_data(download_link: str)\n",
      "    download_data\n",
      "    Download data from URL and save\n",
      "\n",
      "Help on function load_data:\n",
      "\n",
      "load_data(data_path: str)\n",
      "    load_data\n",
      "    Load data and combine\n",
      "\n",
      "Help on function preprocess_data:\n",
      "\n",
      "preprocess_data(load_data_path: str, test_size: float)\n",
      "    preprocess_data\n",
      "    preprocess data\n",
      "\n",
      "Help on function train:\n",
      "\n",
      "train(preprocess_data_path: str, hidden_dim_1: int, hidden_dim_2: int, dropout: float, learning_rate: float, epochs: int, batch_size: int)\n",
      "    train\n",
      "    train the model with input data\n",
      "\n",
      "Help on function eval:\n",
      "\n",
      "eval(preprocess_data_path: str, model_path: 'Model')\n",
      "    eval\n",
      "    evaluate the model with test data\n",
      "\n"
     ]
    }
   ],
   "source": [
    "download_data_op = kfp.components.load_component_from_file('../components/download_data/component.yaml')\n",
    "help(download_data_op)\n",
    "\n",
    "\n",
    "load_data_op = kfp.components.load_component_from_file('../components/load_data/component.yaml')\n",
    "help(load_data_op)\n",
    "\n",
    "\n",
    "preprocess_data_op = kfp.components.load_component_from_file('../components/preprocess_data/component.yaml')\n",
    "help(preprocess_data_op)\n",
    "\n",
    "train_op = kfp.components.load_component_from_file('../components/train/component.yaml')\n",
    "help(train_op)\n",
    "\n",
    "eval_op = kfp.components.load_component_from_file('../components/eval/component.yaml')\n",
    "help(eval_op)"
   ]
  },
  {
   "attachments": {},
   "cell_type": "markdown",
   "metadata": {},
   "source": [
    "## Build the pipeline"
   ]
  },
  {
   "cell_type": "code",
   "execution_count": 45,
   "metadata": {},
   "outputs": [],
   "source": [
    "@dsl.pipeline(\n",
    "  name='MNIST Classification Pipeline',\n",
    "  description='Performs download, load, preprocessing and training'\n",
    ")\n",
    "def pipeline(hidden_dim_1, hidden_dim_2, dropout,\n",
    "  learning_rate, epochs, batch_size, test_size):\n",
    "\n",
    "  download_task = download_data_op(\n",
    "  download_link='https://github.com/kubeflow/examples/blob/master/digit-recognition-kaggle-competition/data/{file}.csv.zip?raw=true'\n",
    "  )\n",
    "  \n",
    "  load_task = load_data_op(\n",
    "    data_path=download_task.outputs['data_path']\n",
    "  )\n",
    "  \n",
    "  preprocess_task = preprocess_data_op(\n",
    "    load_data_path=load_task.outputs['load_data_path'],\n",
    "    test_size=test_size\n",
    "  )\n",
    "  \n",
    "  train_task = train_op(\n",
    "    preprocess_data_path=preprocess_task.outputs['preprocess_data_path'],\n",
    "    hidden_dim_1=hidden_dim_1,\n",
    "    hidden_dim_2=hidden_dim_2,\n",
    "    dropout=dropout,\n",
    "    learning_rate=learning_rate,\n",
    "    epochs=epochs,\n",
    "    batch_size=batch_size\n",
    "  )\n",
    "  \n",
    "  print(train_task.outputs.keys())\n",
    "  \n",
    "  eval_task = eval_op(\n",
    "    preprocess_data_path=preprocess_task.outputs['preprocess_data_path'],\n",
    "    model_path=train_task.outputs['model_path']\n",
    "  )"
   ]
  },
  {
   "attachments": {},
   "cell_type": "markdown",
   "metadata": {},
   "source": [
    "## Compile the pipeline"
   ]
  },
  {
   "cell_type": "code",
   "execution_count": 46,
   "metadata": {},
   "outputs": [
    {
     "name": "stdout",
     "output_type": "stream",
     "text": [
      "dict_keys(['Model Path', 'model_path'])\n"
     ]
    }
   ],
   "source": [
    "pipeline_func = pipeline\n",
    "pipeline_filename = pipeline_func.__name__ + '.pipeline.zip'\n",
    "import kfp.compiler as compiler\n",
    "compiler.Compiler().compile(pipeline_func, pipeline_filename)"
   ]
  },
  {
   "attachments": {},
   "cell_type": "markdown",
   "metadata": {},
   "source": [
    "## Create a Kubeflow Experiment"
   ]
  },
  {
   "cell_type": "code",
   "execution_count": 47,
   "metadata": {},
   "outputs": [
    {
     "name": "stdout",
     "output_type": "stream",
     "text": [
      "{'created_at': datetime.datetime(2022, 12, 17, 16, 15, 21, tzinfo=tzutc()),\n",
      " 'description': None,\n",
      " 'id': '163e318b-4e6f-4c85-99bc-36a7b157dd2f',\n",
      " 'name': 'MNIST-Classification',\n",
      " 'resource_references': None,\n",
      " 'storage_state': 'STORAGESTATE_AVAILABLE'}\n"
     ]
    }
   ],
   "source": [
    "client = kfp.Client(host=HOST, namespace=NAMESPACE)\n",
    "\n",
    "try:\n",
    "    experiment = client.get_experiment(experiment_name=EXPERIMENT_NAME)\n",
    "except:\n",
    "    experiment = client.create_experiment(EXPERIMENT_NAME)\n",
    "    \n",
    "print(experiment)"
   ]
  },
  {
   "cell_type": "code",
   "execution_count": 48,
   "metadata": {},
   "outputs": [
    {
     "data": {
      "text/html": [
       "<a href=\"https://cf5b-2402-800-61c7-5aa4-ffa7-7a7f-34d0-f643.ap.ngrok.io/#/runs/details/8458f9b5-1780-49eb-aad5-10c443e3987a\" target=\"_blank\" >Run details</a>."
      ],
      "text/plain": [
       "<IPython.core.display.HTML object>"
      ]
     },
     "metadata": {},
     "output_type": "display_data"
    },
    {
     "name": "stdout",
     "output_type": "stream",
     "text": [
      "163e318b-4e6f-4c85-99bc-36a7b157dd2f\n",
      "pipeline run\n",
      "pipeline.pipeline.zip\n",
      "{'hidden_dim_1': 56, 'hidden_dim_2': 100, 'dropout': 0.5, 'learning_rate': 0.001, 'epochs': 2, 'batch_size': 64, 'test_size': 0.2}\n"
     ]
    }
   ],
   "source": [
    "arguments = {\n",
    "    'hidden_dim_1': 56,\n",
    "    'hidden_dim_2': 100,\n",
    "    'dropout': 0.5,\n",
    "    'learning_rate': 0.001,\n",
    "    'epochs': 2,\n",
    "    'batch_size': 64, \n",
    "    'test_size': 0.2\n",
    "}\n",
    "\n",
    "run_name = pipeline_func.__name__ + ' run'\n",
    "run_result = client.run_pipeline(experiment.id, \n",
    "                                 run_name, \n",
    "                                 pipeline_filename, \n",
    "                                 arguments)\n",
    "\n",
    "print(experiment.id)\n",
    "print(run_name)\n",
    "print(pipeline_filename)\n",
    "print(arguments)"
   ]
  },
  {
   "cell_type": "code",
   "execution_count": null,
   "metadata": {},
   "outputs": [],
   "source": []
  }
 ],
 "metadata": {
  "kernelspec": {
   "display_name": "mlops",
   "language": "python",
   "name": "python3"
  },
  "language_info": {
   "codemirror_mode": {
    "name": "ipython",
    "version": 3
   },
   "file_extension": ".py",
   "mimetype": "text/x-python",
   "name": "python",
   "nbconvert_exporter": "python",
   "pygments_lexer": "ipython3",
   "version": "3.7.12"
  },
  "orig_nbformat": 4,
  "vscode": {
   "interpreter": {
    "hash": "3381ba1821d40ecd728bf9b2ac9beca3e7996d468375f70cb2a672c025c4daae"
   }
  }
 },
 "nbformat": 4,
 "nbformat_minor": 2
}
